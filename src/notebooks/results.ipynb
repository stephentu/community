{
 "cells": [
  {
   "cell_type": "code",
   "execution_count": 31,
   "metadata": {
    "collapsed": true
   },
   "outputs": [],
   "source": [
    "%matplotlib inline\n",
    "from __future__ import print_function\n",
    "\n",
    "import numpy as np\n",
    "import matplotlib.pylab as plt\n",
    "import operator as op\n",
    "\n",
    "import json"
   ]
  },
  {
   "cell_type": "code",
   "execution_count": 2,
   "metadata": {
    "collapsed": true
   },
   "outputs": [],
   "source": [
    "with open(\"d10.results\", \"r\") as fp:\n",
    "    summaries = [json.loads(line) for line in fp]"
   ]
  },
  {
   "cell_type": "code",
   "execution_count": 11,
   "metadata": {
    "collapsed": false
   },
   "outputs": [],
   "source": [
    "# accumulate results by key (n, d, a, b)\n",
    "results = {}\n",
    "for summary in summaries:\n",
    "    if not summary[\"converged\"]:\n",
    "        print(\"warn: did not converge\")\n",
    "    key = (summary[\"n\"], 10, summary[\"a\"], summary[\"b\"])\n",
    "    acc = results.get(key, [])\n",
    "    acc.append(summary)\n",
    "    results[key] = acc"
   ]
  },
  {
   "cell_type": "code",
   "execution_count": 17,
   "metadata": {
    "collapsed": false
   },
   "outputs": [
    {
     "name": "stdout",
     "output_type": "stream",
     "text": [
      "(32000, 10, 7.24725, 2.75275) 20000 640000000\n",
      "(32000, 10, 7.28079, 2.71921) 20000 640000000\n",
      "(16000, 10, 7.26961, 2.73039) 20000 320000000\n",
      "(32000, 10, 7.26961, 2.73039) 20000 640000000\n",
      "(32000, 10, 7.23607, 2.76393) 20000 640000000\n",
      "(16000, 10, 7.29197, 2.70803) 40000 640000000\n",
      "(16000, 10, 7.28079, 2.71921) 40000 640000000\n",
      "(32000, 10, 7.29197, 2.70803) 20000 640000000\n",
      "(16000, 10, 7.30315, 2.69685) 40000 640000000\n",
      "(32000, 10, 7.25843, 2.74157) 20000 640000000\n",
      "(32000, 10, 7.30315, 2.69685) 20000 640000000\n",
      "total 280000\n"
     ]
    }
   ],
   "source": [
    "# sanity check\n",
    "total = 0\n",
    "for key, value in results.iteritems():\n",
    "    nsamples = len(value)\n",
    "    n = key[0]\n",
    "    print(key, nsamples, nsamples * n)\n",
    "    total += nsamples\n",
    "print(\"total\", total)"
   ]
  },
  {
   "cell_type": "code",
   "execution_count": 16,
   "metadata": {
    "collapsed": false
   },
   "outputs": [
    {
     "name": "stdout",
     "output_type": "stream",
     "text": [
      "280000\n"
     ]
    }
   ],
   "source": [
    "print(len(summaries))"
   ]
  },
  {
   "cell_type": "code",
   "execution_count": 21,
   "metadata": {
    "collapsed": false
   },
   "outputs": [],
   "source": [
    "def getdata():\n",
    "    for key, value in results.iteritems():\n",
    "        qvals = np.array([v[\"correlation\"]for v in value])\n",
    "        top = (qvals ** 4).mean()\n",
    "        bot = ((qvals ** 2).mean()) ** 2\n",
    "        binder = top / bot\n",
    "        n, d, a, b = key\n",
    "        lam = (a-b)/np.sqrt(2.0*(a+b))\n",
    "        yield n, d, lam, binder\n",
    "data = list(getdata())"
   ]
  },
  {
   "cell_type": "code",
   "execution_count": 22,
   "metadata": {
    "collapsed": false
   },
   "outputs": [
    {
     "data": {
      "text/plain": [
       "[(32000, 10, 1.0050007524872806, 1.9494862233060992),\n",
       " (32000, 10, 1.020000296480349, 1.6987150226215018),\n",
       " (16000, 10, 1.0150004484826596, 1.7865936200560901),\n",
       " (32000, 10, 1.0150004484826596, 1.7808355231156823),\n",
       " (32000, 10, 1.0000009044895908, 2.0470069474987196),\n",
       " (16000, 10, 1.0250001444780386, 1.635058036646567),\n",
       " (16000, 10, 1.020000296480349, 1.7069701569464961),\n",
       " (32000, 10, 1.0250001444780386, 1.6156387256142468),\n",
       " (16000, 10, 1.0299999924757279, 1.5769955326086238),\n",
       " (32000, 10, 1.0100006004849698, 1.8437444340127829),\n",
       " (32000, 10, 1.0299999924757279, 1.5236630853234348)]"
      ]
     },
     "execution_count": 22,
     "metadata": {},
     "output_type": "execute_result"
    }
   ],
   "source": [
    "data"
   ]
  },
  {
   "cell_type": "code",
   "execution_count": 32,
   "metadata": {
    "collapsed": false
   },
   "outputs": [],
   "source": [
    "line_n32k_d10 = sorted([(v[2], v[3]) for v in data if v[0] == 32000], key=op.itemgetter(0))\n",
    "line_n16k_d10 = sorted([(v[2], v[3]) for v in data if v[0] == 16000], key=op.itemgetter(0))"
   ]
  },
  {
   "cell_type": "code",
   "execution_count": 33,
   "metadata": {
    "collapsed": true
   },
   "outputs": [],
   "source": [
    "def xvals(v): return [e[0] for e in v]\n",
    "def yvals(v): return [e[1] for e in v]"
   ]
  },
  {
   "cell_type": "code",
   "execution_count": 36,
   "metadata": {
    "collapsed": false
   },
   "outputs": [
    {
     "data": {
      "text/plain": [
       "<matplotlib.text.Text at 0x7fd6cc68cb90>"
      ]
     },
     "execution_count": 36,
     "metadata": {},
     "output_type": "execute_result"
    },
    {
     "data": {
      "image/png": "[encoded data removed]",
      "text/plain": [
       "<matplotlib.figure.Figure at 0x7fd6ccb1ded0>"
      ]
     },
     "metadata": {},
     "output_type": "display_data"
    }
   ],
   "source": [
    "plt.plot(xvals(line_n32k_d10), yvals(line_n32k_d10),\n",
    "         xvals(line_n16k_d10), yvals(line_n16k_d10))\n",
    "plt.xlabel(\"lambda\")\n",
    "plt.ylabel(\"binder\")"
   ]
  },
  {
   "cell_type": "code",
   "execution_count": null,
   "metadata": {
    "collapsed": true
   },
   "outputs": [],
   "source": []
  }
 ],
 "metadata": {
  "kernelspec": {
   "display_name": "Python 2",
   "language": "python2",
   "name": "python2"
  },
  "language_info": {
   "codemirror_mode": {
    "name": "ipython",
    "version": 2
   },
   "file_extension": ".py",
   "mimetype": "text/x-python",
   "name": "python",
   "nbconvert_exporter": "python",
   "pygments_lexer": "ipython2",
   "version": "2.7.11"
  }
 },
 "nbformat": 4,
 "nbformat_minor": 0
}
