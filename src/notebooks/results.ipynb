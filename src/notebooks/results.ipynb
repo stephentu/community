{
 "cells": [
  {
   "cell_type": "code",
   "execution_count": 1,
   "metadata": {
    "collapsed": true
   },
   "outputs": [],
   "source": [
    "%matplotlib inline\n",
    "from __future__ import print_function\n",
    "from scipy.stats import linregress\n",
    "\n",
    "import numpy as np\n",
    "import matplotlib.pylab as plt\n",
    "import operator as op\n",
    "\n",
    "import json\n",
    "\n",
    "def xvals(v): return [e[0] for e in v]\n",
    "def yvals(v): return [e[1] for e in v]"
   ]
  },
  {
   "cell_type": "code",
   "execution_count": 2,
   "metadata": {
    "collapsed": true
   },
   "outputs": [],
   "source": [
    "def getdatafor(summaries):\n",
    "    # accumulate results by key (n, d, a, b)\n",
    "    results = {}\n",
    "    for summary in summaries:\n",
    "        if not summary[\"converged\"]:\n",
    "            print(\"warn: did not converge\")\n",
    "        d = (summary[\"a\"] + summary[\"b\"])/2.0\n",
    "        key = (summary[\"n\"], d, summary[\"a\"], summary[\"b\"])\n",
    "        acc = results.get(key, [])\n",
    "        acc.append(summary)\n",
    "        results[key] = acc\n",
    "        \n",
    "    # sanity check\n",
    "    print(\"--- sanity checking data ---\")\n",
    "    total = 0\n",
    "    for key, value in results.iteritems():\n",
    "        nsamples = len(value)\n",
    "        n = key[0]\n",
    "        print(key, nsamples, nsamples * n)\n",
    "        total += nsamples\n",
    "    print(\"total\", total)\n",
    "    \n",
    "    def getdata():\n",
    "        for key, value in results.iteritems():\n",
    "            qvals = np.array([v[\"correlation\"]for v in value])\n",
    "            top = (qvals ** 4).mean()\n",
    "            bot = ((qvals ** 2).mean()) ** 2\n",
    "            binder = top / bot\n",
    "            n, d, a, b = key\n",
    "            lam = (a-b)/np.sqrt(2.0*(a+b))\n",
    "            yield n, d, lam, binder\n",
    "    return list(getdata())"
   ]
  },
  {
   "cell_type": "markdown",
   "metadata": {},
   "source": [
    "## d=10 line (Figure 15, bottom)\n",
    "This one is fine, although the binder numbers reported here are slightly higher than in the paper."
   ]
  },
  {
   "cell_type": "code",
   "execution_count": 3,
   "metadata": {
    "collapsed": false
   },
   "outputs": [],
   "source": [
    "with open(\"results-d10.0.txt\", \"r\") as fp:\n",
    "    summaries = [json.loads(line) for line in fp]"
   ]
  },
  {
   "cell_type": "code",
   "execution_count": 4,
   "metadata": {
    "collapsed": false
   },
   "outputs": [
    {
     "name": "stdout",
     "output_type": "stream",
     "text": [
      "--- sanity checking data ---\n",
      "(32000, 10.0, 13.241334601672587, 6.758665398327411) 20000 640000000\n",
      "(16000, 10.0, 13.193900436770065, 6.806099563229937) 40000 640000000\n",
      "(16000, 10.0, 13.209711825070904, 6.7902881749290955) 40000 640000000\n",
      "(32000, 10.0, 13.193900436770065, 6.806099563229937) 20000 640000000\n",
      "(16000, 10.0, 13.225523213371748, 6.774476786628252) 40000 640000000\n",
      "(16000, 10.0, 13.178089048469221, 6.8219109515307785) 40000 640000000\n",
      "(32000, 10.0, 13.178089048469221, 6.8219109515307785) 20000 640000000\n",
      "(16000, 10.0, 13.25714598997343, 6.742854010026569) 40000 640000000\n",
      "(32000, 10.0, 13.25714598997343, 6.742854010026569) 20000 640000000\n",
      "(32000, 10.0, 13.209711825070904, 6.7902881749290955) 20000 640000000\n",
      "(16000, 10.0, 13.241334601672587, 6.758665398327411) 40000 640000000\n",
      "(32000, 10.0, 13.162277660168378, 6.83772233983162) 20000 640000000\n",
      "(16000, 10.0, 13.162277660168378, 6.83772233983162) 40000 640000000\n",
      "(32000, 10.0, 13.225523213371748, 6.774476786628252) 20000 640000000\n",
      "total 420000\n"
     ]
    }
   ],
   "source": [
    "data = getdatafor(summaries)"
   ]
  },
  {
   "cell_type": "code",
   "execution_count": 5,
   "metadata": {
    "collapsed": false
   },
   "outputs": [
    {
     "data": {
      "text/plain": [
       "<matplotlib.text.Text at 0x7f298a637250>"
      ]
     },
     "execution_count": 5,
     "metadata": {},
     "output_type": "execute_result"
    },
    {
     "data": {
      "image/png": "[encoded data removed]",
      "text/plain": [
       "<matplotlib.figure.Figure at 0x7f29d5ae8b50>"
      ]
     },
     "metadata": {},
     "output_type": "display_data"
    }
   ],
   "source": [
    "line_n32k = sorted([(v[2], v[3]) for v in data if v[0] == 32000], key=op.itemgetter(0))\n",
    "line_n16k = sorted([(v[2], v[3]) for v in data if v[0] == 16000], key=op.itemgetter(0))\n",
    "\n",
    "m1, b1, _, _, _ = linregress(xvals(line_n16k), yvals(line_n16k))\n",
    "m2, b2, _, _, _ = linregress(xvals(line_n32k), yvals(line_n32k))\n",
    "xcross = (b2-b1)/(m1-m2)\n",
    "\n",
    "xaxis = np.linspace(np.min(xvals(line_n16k)), np.max(xvals(line_n16k)), 100)\n",
    "plt.plot(xaxis, m1*xaxis + b1, 'g',\n",
    "         xaxis, m2*xaxis + b2, 'b')\n",
    "plt.legend([\"n=16k\", \"n=32k\"])\n",
    "plt.plot(xvals(line_n16k), yvals(line_n16k), 'gx',\n",
    "         xvals(line_n32k), yvals(line_n32k), 'bo')\n",
    "plt.axvline(xcross, color='k', linestyle='--')\n",
    "plt.xlabel(\"lambda\")\n",
    "plt.ylabel(\"binder\")\n",
    "plt.title(\"d=10\")"
   ]
  },
  {
   "cell_type": "code",
   "execution_count": 6,
   "metadata": {
    "collapsed": false
   },
   "outputs": [
    {
     "name": "stdout",
     "output_type": "stream",
     "text": [
      "1.01088542574\n"
     ]
    }
   ],
   "source": [
    "print(xcross)"
   ]
  },
  {
   "cell_type": "markdown",
   "metadata": {
    "collapsed": true
   },
   "source": [
    "## d=2 line (Figure 15, top)\n",
    "This one is broken. The binder numbers are just noise."
   ]
  },
  {
   "cell_type": "code",
   "execution_count": 7,
   "metadata": {
    "collapsed": true
   },
   "outputs": [],
   "source": [
    "with open(\"results-d2.0.txt\", \"r\") as fp:\n",
    "    summaries = [json.loads(line) for line in fp]"
   ]
  },
  {
   "cell_type": "code",
   "execution_count": 8,
   "metadata": {
    "collapsed": false
   },
   "outputs": [
    {
     "name": "stdout",
     "output_type": "stream",
     "text": [
      "--- sanity checking data ---\n",
      "(16000, 2.0, 3.456639969244288, 0.543360030755712) 40000 640000000\n",
      "(32000, 2.0, 3.4495689014324222, 0.5504310985675775) 20000 640000000\n",
      "(16000, 2.0, 3.42128463018496, 0.5787153698150396) 40000 640000000\n",
      "(16000, 2.0, 3.4283556979968264, 0.5716443020031738) 40000 640000000\n",
      "(16000, 2.0, 3.414213562373095, 0.5857864376269049) 40000 640000000\n",
      "(32000, 2.0, 3.456639969244288, 0.543360030755712) 20000 640000000\n",
      "(32000, 2.0, 3.442497833620557, 0.5575021663794428) 20000 640000000\n",
      "(32000, 2.0, 3.42128463018496, 0.5787153698150396) 20000 640000000\n",
      "(16000, 2.0, 3.4495689014324222, 0.5504310985675775) 40000 640000000\n",
      "(32000, 2.0, 3.414213562373095, 0.5857864376269049) 20000 640000000\n",
      "(16000, 2.0, 3.442497833620557, 0.5575021663794428) 40000 640000000\n",
      "(16000, 2.0, 3.4354267658086917, 0.5645732341913086) 40000 640000000\n",
      "(32000, 2.0, 3.4354267658086917, 0.5645732341913086) 20000 640000000\n",
      "(32000, 2.0, 3.4283556979968264, 0.5716443020031738) 20000 640000000\n",
      "total 420000\n"
     ]
    }
   ],
   "source": [
    "data = getdatafor(summaries)"
   ]
  },
  {
   "cell_type": "code",
   "execution_count": 9,
   "metadata": {
    "collapsed": false
   },
   "outputs": [
    {
     "data": {
      "text/plain": [
       "<matplotlib.text.Text at 0x7f298c3ab490>"
      ]
     },
     "execution_count": 9,
     "metadata": {},
     "output_type": "execute_result"
    },
    {
     "data": {
      "image/png": "[encoded data removed]",
      "text/plain": [
       "<matplotlib.figure.Figure at 0x7f298a333cd0>"
      ]
     },
     "metadata": {},
     "output_type": "display_data"
    }
   ],
   "source": [
    "line_n32k = sorted([(v[2], v[3]) for v in data if v[0] == 32000], key=op.itemgetter(0))\n",
    "line_n16k = sorted([(v[2], v[3]) for v in data if v[0] == 16000], key=op.itemgetter(0))\n",
    "\n",
    "m1, b1, _, _, _ = linregress(xvals(line_n16k), yvals(line_n16k))\n",
    "m2, b2, _, _, _ = linregress(xvals(line_n32k), yvals(line_n32k))\n",
    "xcross = (b2-b1)/(m1-m2)\n",
    "\n",
    "xaxis = np.linspace(np.min(xvals(line_n16k)), np.max(xvals(line_n16k)), 100)\n",
    "plt.plot(xaxis, m1*xaxis + b1, 'g',\n",
    "         xaxis, m2*xaxis + b2, 'b')\n",
    "plt.legend([\"n=16k\", \"n=32k\"])\n",
    "plt.plot(xvals(line_n16k), yvals(line_n16k), 'gx',\n",
    "         xvals(line_n32k), yvals(line_n32k), 'bo')\n",
    "plt.axvline(xcross, color='k', linestyle='--')\n",
    "plt.xlabel(\"lambda\")\n",
    "plt.ylabel(\"binder\")\n",
    "plt.title(\"d=2\")"
   ]
  }
 ],
 "metadata": {
  "kernelspec": {
   "display_name": "Python 2",
   "language": "python2",
   "name": "python2"
  },
  "language_info": {
   "codemirror_mode": {
    "name": "ipython",
    "version": 2
   },
   "file_extension": ".py",
   "mimetype": "text/x-python",
   "name": "python",
   "nbconvert_exporter": "python",
   "pygments_lexer": "ipython2",
   "version": "2.7.11"
  }
 },
 "nbformat": 4,
 "nbformat_minor": 0
}
