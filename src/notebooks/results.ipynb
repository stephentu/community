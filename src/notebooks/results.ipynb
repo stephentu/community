{
 "cells": [
  {
   "cell_type": "code",
   "execution_count": 16,
   "metadata": {
    "collapsed": true
   },
   "outputs": [],
   "source": [
    "%matplotlib inline\n",
    "from __future__ import print_function\n",
    "from scipy.stats import linregress\n",
    "\n",
    "import numpy as np\n",
    "import matplotlib.pylab as plt\n",
    "import operator as op\n",
    "\n",
    "import json\n",
    "\n",
    "def xvals(v): return [e[0] for e in v]\n",
    "def yvals(v): return [e[1] for e in v]"
   ]
  },
  {
   "cell_type": "code",
   "execution_count": 3,
   "metadata": {
    "collapsed": false
   },
   "outputs": [],
   "source": [
    "# Load data\n",
    "summaries = []\n",
    "with open(\"results-n16k-d5.txt\", \"r\") as fp:\n",
    "    summaries.extend([json.loads(line) for line in fp])\n",
    "with open(\"results-n32k-d5.txt\", \"r\") as fp:\n",
    "    summaries.extend([json.loads(line) for line in fp])"
   ]
  },
  {
   "cell_type": "code",
   "execution_count": 7,
   "metadata": {
    "collapsed": false
   },
   "outputs": [],
   "source": [
    "# accumulate results by key (n, d, a, b)\n",
    "results = {}\n",
    "for summary in summaries:\n",
    "    if not summary[\"converged\"]:\n",
    "        print(\"warn: did not converge\")\n",
    "    d = int(np.round((summary[\"a\"] + summary[\"b\"])/2.0))\n",
    "    key = (summary[\"n\"], d, summary[\"a\"], summary[\"b\"])\n",
    "    acc = results.get(key, [])\n",
    "    acc.append(summary)\n",
    "    results[key] = acc"
   ]
  },
  {
   "cell_type": "code",
   "execution_count": 9,
   "metadata": {
    "collapsed": false
   },
   "outputs": [
    {
     "name": "stdout",
     "output_type": "stream",
     "text": [
      "(16000, 5, 7.23606797749979, 2.76393202250021) 40000 640000000\n",
      "(32000, 5, 7.23606797749979, 2.76393202250021) 20000 640000000\n",
      "(16000, 5, 7.303150016824784, 2.6968499831752166) 40000 640000000\n",
      "(16000, 5, 7.247248317387289, 2.7527516826127116) 40000 640000000\n",
      "(32000, 5, 7.247248317387289, 2.7527516826127116) 20000 640000000\n",
      "(32000, 5, 7.269608997162287, 2.7303910028377136) 20000 640000000\n",
      "(32000, 5, 7.258428657274788, 2.741571342725212) 20000 640000000\n",
      "(32000, 5, 7.280789337049786, 2.719210662950214) 20000 640000000\n",
      "(16000, 5, 7.269608997162287, 2.7303910028377136) 40000 640000000\n",
      "(32000, 5, 7.303150016824784, 2.6968499831752166) 20000 640000000\n",
      "(16000, 5, 7.291969676937285, 2.7080303230627156) 40000 640000000\n",
      "(16000, 5, 7.280789337049786, 2.719210662950214) 40000 640000000\n",
      "(32000, 5, 7.291969676937285, 2.7080303230627156) 20000 640000000\n",
      "(16000, 5, 7.258428657274788, 2.741571342725212) 40000 640000000\n",
      "total 420000\n"
     ]
    }
   ],
   "source": [
    "# sanity check\n",
    "total = 0\n",
    "for key, value in results.iteritems():\n",
    "    nsamples = len(value)\n",
    "    n = key[0]\n",
    "    print(key, nsamples, nsamples * n)\n",
    "    total += nsamples\n",
    "print(\"total\", total)"
   ]
  },
  {
   "cell_type": "code",
   "execution_count": 11,
   "metadata": {
    "collapsed": false
   },
   "outputs": [],
   "source": [
    "def getdata():\n",
    "    for key, value in results.iteritems():\n",
    "        qvals = np.array([v[\"correlation\"]for v in value])\n",
    "        top = (qvals ** 4).mean()\n",
    "        bot = ((qvals ** 2).mean()) ** 2\n",
    "        binder = top / bot\n",
    "        n, d, a, b = key\n",
    "        lam = (a-b)/np.sqrt(2.0*(a+b))\n",
    "        yield n, d, lam, binder\n",
    "data = list(getdata())"
   ]
  },
  {
   "cell_type": "code",
   "execution_count": 12,
   "metadata": {
    "collapsed": false
   },
   "outputs": [
    {
     "data": {
      "text/plain": [
       "[(16000, 5, 1.0, 1.9885503622696987),\n",
       " (32000, 5, 1.0, 2.0453961227343989),\n",
       " (16000, 5, 1.0300000000000002, 1.5839491177152698),\n",
       " (16000, 5, 1.0050000000000001, 1.9140431861920915),\n",
       " (32000, 5, 1.0050000000000001, 1.9644751494913972),\n",
       " (32000, 5, 1.0150000000000001, 1.7709710338553637),\n",
       " (32000, 5, 1.01, 1.8680952410452278),\n",
       " (32000, 5, 1.02, 1.7082740759199568),\n",
       " (16000, 5, 1.0150000000000001, 1.7812023980492593),\n",
       " (32000, 5, 1.0300000000000002, 1.5213918865685496),\n",
       " (16000, 5, 1.0250000000000001, 1.6455385123092818),\n",
       " (16000, 5, 1.02, 1.7122404427733928),\n",
       " (32000, 5, 1.0250000000000001, 1.6064759602148235),\n",
       " (16000, 5, 1.01, 1.8437905135221022)]"
      ]
     },
     "execution_count": 12,
     "metadata": {},
     "output_type": "execute_result"
    }
   ],
   "source": [
    "data"
   ]
  },
  {
   "cell_type": "code",
   "execution_count": 14,
   "metadata": {
    "collapsed": false
   },
   "outputs": [],
   "source": [
    "line_n32k_d5 = sorted([(v[2], v[3]) for v in data if v[0] == 32000], key=op.itemgetter(0))\n",
    "line_n16k_d5 = sorted([(v[2], v[3]) for v in data if v[0] == 16000], key=op.itemgetter(0))"
   ]
  },
  {
   "cell_type": "code",
   "execution_count": 29,
   "metadata": {
    "collapsed": true
   },
   "outputs": [],
   "source": [
    "m1, b1, _, _, _ = linregress(xvals(line_n16k_d5), yvals(line_n16k_d5))\n",
    "m2, b2, _, _, _ = linregress(xvals(line_n32k_d5), yvals(line_n32k_d5))\n",
    "xcross = (b2-b1)/(m1-m2)"
   ]
  },
  {
   "cell_type": "code",
   "execution_count": 35,
   "metadata": {
    "collapsed": false
   },
   "outputs": [
    {
     "data": {
      "text/plain": [
       "<matplotlib.text.Text at 0x14613a950>"
      ]
     },
     "execution_count": 35,
     "metadata": {},
     "output_type": "execute_result"
    },
    {
     "data": {
      "image/png": "[encoded data removed]",
      "text/plain": [
       "<matplotlib.figure.Figure at 0x1460c50d0>"
      ]
     },
     "metadata": {},
     "output_type": "display_data"
    }
   ],
   "source": [
    "xaxis = np.linspace(np.min(xvals(line_n16k_d5)), np.max(xvals(line_n16k_d5)), 100)\n",
    "plt.plot(xaxis, m1*xaxis + b1, 'g',\n",
    "         xaxis, m2*xaxis + b2, 'b')\n",
    "plt.legend([\"n=16k\", \"n=32k\"])\n",
    "plt.plot(xvals(line_n16k_d5), yvals(line_n16k_d5), 'gx',\n",
    "         xvals(line_n32k_d5), yvals(line_n32k_d5), 'bo')\n",
    "plt.axvline(xcross, color='k', linestyle='--')\n",
    "plt.xlabel(\"lambda\")\n",
    "plt.ylabel(\"binder\")\n",
    "plt.title(\"d=5\")"
   ]
  },
  {
   "cell_type": "code",
   "execution_count": 36,
   "metadata": {
    "collapsed": false
   },
   "outputs": [
    {
     "name": "stdout",
     "output_type": "stream",
     "text": [
      "1.01555758792\n"
     ]
    }
   ],
   "source": [
    "print(xcross)"
   ]
  },
  {
   "cell_type": "code",
   "execution_count": null,
   "metadata": {
    "collapsed": true
   },
   "outputs": [],
   "source": []
  }
 ],
 "metadata": {
  "kernelspec": {
   "display_name": "Python 2",
   "language": "python",
   "name": "python2"
  },
  "language_info": {
   "codemirror_mode": {
    "name": "ipython",
    "version": 2
   },
   "file_extension": ".py",
   "mimetype": "text/x-python",
   "name": "python",
   "nbconvert_exporter": "python",
   "pygments_lexer": "ipython2",
   "version": "2.7.10"
  }
 },
 "nbformat": 4,
 "nbformat_minor": 0
}
